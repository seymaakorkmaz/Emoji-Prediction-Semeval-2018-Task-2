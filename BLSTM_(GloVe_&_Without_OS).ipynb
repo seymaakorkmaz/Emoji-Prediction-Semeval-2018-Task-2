{
  "cells": [
    {
      "cell_type": "code",
      "execution_count": null,
      "metadata": {
        "id": "4uiJ5FjtdQoP"
      },
      "outputs": [],
      "source": [
        "import numpy as np\n",
        "import pandas as pd\n",
        "import matplotlib.pyplot as plt\n",
        "import seaborn as sns\n",
        "\n",
        "import tensorflow as tf\n",
        "import tensorflow.keras\n",
        "\n",
        "from sklearn.metrics import accuracy_score"
      ]
    },
    {
      "cell_type": "code",
      "execution_count": null,
      "metadata": {
        "id": "KjEDt_LCdTXT"
      },
      "outputs": [],
      "source": [
        "df_train = pd.read_csv(\"NormalizedTrainDataset.csv\",header=None)\n",
        "#df_test = pd.read_csv(\"NormalizedTestDataset.csv\",header=None)"
      ]
    },
    {
      "cell_type": "code",
      "execution_count": null,
      "metadata": {
        "id": "GVSoFROmdjEY"
      },
      "outputs": [],
      "source": [
        "df_train.rename(columns = {0:'Tweet'}, inplace = True)\n",
        "#df_test.rename(columns = {0:'Tweet'}, inplace = True)"
      ]
    },
    {
      "cell_type": "code",
      "execution_count": null,
      "metadata": {
        "colab": {
          "base_uri": "https://localhost:8080/",
          "height": 423
        },
        "id": "OpLVkU-L_po7",
        "outputId": "454235a2-92cc-43c6-d18c-ef461792151d"
      },
      "outputs": [
        {
          "output_type": "execute_result",
          "data": {
            "text/plain": [
              "                                                    Tweet\n",
              "0                        missing chicago downtown chicago\n",
              "1       oh di i mention i want a cow or two specifcall...\n",
              "2                              mylove central park in nyc\n",
              "3       just extremly thankful a part of my life plain...\n",
              "4       first pit stop momy crib montery west miami fl...\n",
              "...                                                   ...\n",
              "346743  loved it thank you atlanta progpowerusa thegnt...\n",
              "346744                 dem boys the beachpoint plesant nj\n",
              "346745  its fun to shop thoi might have to remind you ...\n",
              "346746  oh gosh look meh people missed thes guys soo m...\n",
              "346747  they manged to keep tonight a surpise from me ...\n",
              "\n",
              "[346748 rows x 1 columns]"
            ],
            "text/html": [
              "\n",
              "  <div id=\"df-01ceb495-cccc-48fa-af37-53bfadd30185\">\n",
              "    <div class=\"colab-df-container\">\n",
              "      <div>\n",
              "<style scoped>\n",
              "    .dataframe tbody tr th:only-of-type {\n",
              "        vertical-align: middle;\n",
              "    }\n",
              "\n",
              "    .dataframe tbody tr th {\n",
              "        vertical-align: top;\n",
              "    }\n",
              "\n",
              "    .dataframe thead th {\n",
              "        text-align: right;\n",
              "    }\n",
              "</style>\n",
              "<table border=\"1\" class=\"dataframe\">\n",
              "  <thead>\n",
              "    <tr style=\"text-align: right;\">\n",
              "      <th></th>\n",
              "      <th>Tweet</th>\n",
              "    </tr>\n",
              "  </thead>\n",
              "  <tbody>\n",
              "    <tr>\n",
              "      <th>0</th>\n",
              "      <td>missing chicago downtown chicago</td>\n",
              "    </tr>\n",
              "    <tr>\n",
              "      <th>1</th>\n",
              "      <td>oh di i mention i want a cow or two specifcall...</td>\n",
              "    </tr>\n",
              "    <tr>\n",
              "      <th>2</th>\n",
              "      <td>mylove central park in nyc</td>\n",
              "    </tr>\n",
              "    <tr>\n",
              "      <th>3</th>\n",
              "      <td>just extremly thankful a part of my life plain...</td>\n",
              "    </tr>\n",
              "    <tr>\n",
              "      <th>4</th>\n",
              "      <td>first pit stop momy crib montery west miami fl...</td>\n",
              "    </tr>\n",
              "    <tr>\n",
              "      <th>...</th>\n",
              "      <td>...</td>\n",
              "    </tr>\n",
              "    <tr>\n",
              "      <th>346743</th>\n",
              "      <td>loved it thank you atlanta progpowerusa thegnt...</td>\n",
              "    </tr>\n",
              "    <tr>\n",
              "      <th>346744</th>\n",
              "      <td>dem boys the beachpoint plesant nj</td>\n",
              "    </tr>\n",
              "    <tr>\n",
              "      <th>346745</th>\n",
              "      <td>its fun to shop thoi might have to remind you ...</td>\n",
              "    </tr>\n",
              "    <tr>\n",
              "      <th>346746</th>\n",
              "      <td>oh gosh look meh people missed thes guys soo m...</td>\n",
              "    </tr>\n",
              "    <tr>\n",
              "      <th>346747</th>\n",
              "      <td>they manged to keep tonight a surpise from me ...</td>\n",
              "    </tr>\n",
              "  </tbody>\n",
              "</table>\n",
              "<p>346748 rows × 1 columns</p>\n",
              "</div>\n",
              "      <button class=\"colab-df-convert\" onclick=\"convertToInteractive('df-01ceb495-cccc-48fa-af37-53bfadd30185')\"\n",
              "              title=\"Convert this dataframe to an interactive table.\"\n",
              "              style=\"display:none;\">\n",
              "        \n",
              "  <svg xmlns=\"http://www.w3.org/2000/svg\" height=\"24px\"viewBox=\"0 0 24 24\"\n",
              "       width=\"24px\">\n",
              "    <path d=\"M0 0h24v24H0V0z\" fill=\"none\"/>\n",
              "    <path d=\"M18.56 5.44l.94 2.06.94-2.06 2.06-.94-2.06-.94-.94-2.06-.94 2.06-2.06.94zm-11 1L8.5 8.5l.94-2.06 2.06-.94-2.06-.94L8.5 2.5l-.94 2.06-2.06.94zm10 10l.94 2.06.94-2.06 2.06-.94-2.06-.94-.94-2.06-.94 2.06-2.06.94z\"/><path d=\"M17.41 7.96l-1.37-1.37c-.4-.4-.92-.59-1.43-.59-.52 0-1.04.2-1.43.59L10.3 9.45l-7.72 7.72c-.78.78-.78 2.05 0 2.83L4 21.41c.39.39.9.59 1.41.59.51 0 1.02-.2 1.41-.59l7.78-7.78 2.81-2.81c.8-.78.8-2.07 0-2.86zM5.41 20L4 18.59l7.72-7.72 1.47 1.35L5.41 20z\"/>\n",
              "  </svg>\n",
              "      </button>\n",
              "      \n",
              "  <style>\n",
              "    .colab-df-container {\n",
              "      display:flex;\n",
              "      flex-wrap:wrap;\n",
              "      gap: 12px;\n",
              "    }\n",
              "\n",
              "    .colab-df-convert {\n",
              "      background-color: #E8F0FE;\n",
              "      border: none;\n",
              "      border-radius: 50%;\n",
              "      cursor: pointer;\n",
              "      display: none;\n",
              "      fill: #1967D2;\n",
              "      height: 32px;\n",
              "      padding: 0 0 0 0;\n",
              "      width: 32px;\n",
              "    }\n",
              "\n",
              "    .colab-df-convert:hover {\n",
              "      background-color: #E2EBFA;\n",
              "      box-shadow: 0px 1px 2px rgba(60, 64, 67, 0.3), 0px 1px 3px 1px rgba(60, 64, 67, 0.15);\n",
              "      fill: #174EA6;\n",
              "    }\n",
              "\n",
              "    [theme=dark] .colab-df-convert {\n",
              "      background-color: #3B4455;\n",
              "      fill: #D2E3FC;\n",
              "    }\n",
              "\n",
              "    [theme=dark] .colab-df-convert:hover {\n",
              "      background-color: #434B5C;\n",
              "      box-shadow: 0px 1px 3px 1px rgba(0, 0, 0, 0.15);\n",
              "      filter: drop-shadow(0px 1px 2px rgba(0, 0, 0, 0.3));\n",
              "      fill: #FFFFFF;\n",
              "    }\n",
              "  </style>\n",
              "\n",
              "      <script>\n",
              "        const buttonEl =\n",
              "          document.querySelector('#df-01ceb495-cccc-48fa-af37-53bfadd30185 button.colab-df-convert');\n",
              "        buttonEl.style.display =\n",
              "          google.colab.kernel.accessAllowed ? 'block' : 'none';\n",
              "\n",
              "        async function convertToInteractive(key) {\n",
              "          const element = document.querySelector('#df-01ceb495-cccc-48fa-af37-53bfadd30185');\n",
              "          const dataTable =\n",
              "            await google.colab.kernel.invokeFunction('convertToInteractive',\n",
              "                                                     [key], {});\n",
              "          if (!dataTable) return;\n",
              "\n",
              "          const docLinkHtml = 'Like what you see? Visit the ' +\n",
              "            '<a target=\"_blank\" href=https://colab.research.google.com/notebooks/data_table.ipynb>data table notebook</a>'\n",
              "            + ' to learn more about interactive tables.';\n",
              "          element.innerHTML = '';\n",
              "          dataTable['output_type'] = 'display_data';\n",
              "          await google.colab.output.renderOutput(dataTable, element);\n",
              "          const docLink = document.createElement('div');\n",
              "          docLink.innerHTML = docLinkHtml;\n",
              "          element.appendChild(docLink);\n",
              "        }\n",
              "      </script>\n",
              "    </div>\n",
              "  </div>\n",
              "  "
            ]
          },
          "metadata": {},
          "execution_count": 12
        }
      ],
      "source": [
        "df_train"
      ]
    },
    {
      "cell_type": "code",
      "execution_count": null,
      "metadata": {
        "id": "85Frk7OzdoF2"
      },
      "outputs": [],
      "source": [
        "df_train_label = pd.read_csv(\"TrainLabel.csv\")"
      ]
    },
    {
      "cell_type": "code",
      "execution_count": null,
      "metadata": {
        "id": "JiiDK41SdpwX"
      },
      "outputs": [],
      "source": [
        "df_train['Label'] = df_train_label.Label"
      ]
    },
    {
      "cell_type": "code",
      "execution_count": null,
      "metadata": {
        "colab": {
          "base_uri": "https://localhost:8080/",
          "height": 423
        },
        "id": "3kemEisDdqno",
        "outputId": "287a3188-1d28-4b3a-f68a-2149e000cb0a"
      },
      "outputs": [
        {
          "output_type": "execute_result",
          "data": {
            "text/plain": [
              "                                                    Tweet  Label\n",
              "0                        missing chicago downtown chicago     10\n",
              "1       oh di i mention i want a cow or two specifcall...      1\n",
              "2                              mylove central park in nyc      1\n",
              "3       just extremly thankful a part of my life plain...      3\n",
              "4       first pit stop momy crib montery west miami fl...     19\n",
              "...                                                   ...    ...\n",
              "346743  loved it thank you atlanta progpowerusa thegnt...      0\n",
              "346744                 dem boys the beachpoint plesant nj      1\n",
              "346745  its fun to shop thoi might have to remind you ...      5\n",
              "346746  oh gosh look meh people missed thes guys soo m...      9\n",
              "346747  they manged to keep tonight a surpise from me ...      0\n",
              "\n",
              "[346748 rows x 2 columns]"
            ],
            "text/html": [
              "\n",
              "  <div id=\"df-07b2898a-b0a6-4a74-9e22-bb252ff6d11e\">\n",
              "    <div class=\"colab-df-container\">\n",
              "      <div>\n",
              "<style scoped>\n",
              "    .dataframe tbody tr th:only-of-type {\n",
              "        vertical-align: middle;\n",
              "    }\n",
              "\n",
              "    .dataframe tbody tr th {\n",
              "        vertical-align: top;\n",
              "    }\n",
              "\n",
              "    .dataframe thead th {\n",
              "        text-align: right;\n",
              "    }\n",
              "</style>\n",
              "<table border=\"1\" class=\"dataframe\">\n",
              "  <thead>\n",
              "    <tr style=\"text-align: right;\">\n",
              "      <th></th>\n",
              "      <th>Tweet</th>\n",
              "      <th>Label</th>\n",
              "    </tr>\n",
              "  </thead>\n",
              "  <tbody>\n",
              "    <tr>\n",
              "      <th>0</th>\n",
              "      <td>missing chicago downtown chicago</td>\n",
              "      <td>10</td>\n",
              "    </tr>\n",
              "    <tr>\n",
              "      <th>1</th>\n",
              "      <td>oh di i mention i want a cow or two specifcall...</td>\n",
              "      <td>1</td>\n",
              "    </tr>\n",
              "    <tr>\n",
              "      <th>2</th>\n",
              "      <td>mylove central park in nyc</td>\n",
              "      <td>1</td>\n",
              "    </tr>\n",
              "    <tr>\n",
              "      <th>3</th>\n",
              "      <td>just extremly thankful a part of my life plain...</td>\n",
              "      <td>3</td>\n",
              "    </tr>\n",
              "    <tr>\n",
              "      <th>4</th>\n",
              "      <td>first pit stop momy crib montery west miami fl...</td>\n",
              "      <td>19</td>\n",
              "    </tr>\n",
              "    <tr>\n",
              "      <th>...</th>\n",
              "      <td>...</td>\n",
              "      <td>...</td>\n",
              "    </tr>\n",
              "    <tr>\n",
              "      <th>346743</th>\n",
              "      <td>loved it thank you atlanta progpowerusa thegnt...</td>\n",
              "      <td>0</td>\n",
              "    </tr>\n",
              "    <tr>\n",
              "      <th>346744</th>\n",
              "      <td>dem boys the beachpoint plesant nj</td>\n",
              "      <td>1</td>\n",
              "    </tr>\n",
              "    <tr>\n",
              "      <th>346745</th>\n",
              "      <td>its fun to shop thoi might have to remind you ...</td>\n",
              "      <td>5</td>\n",
              "    </tr>\n",
              "    <tr>\n",
              "      <th>346746</th>\n",
              "      <td>oh gosh look meh people missed thes guys soo m...</td>\n",
              "      <td>9</td>\n",
              "    </tr>\n",
              "    <tr>\n",
              "      <th>346747</th>\n",
              "      <td>they manged to keep tonight a surpise from me ...</td>\n",
              "      <td>0</td>\n",
              "    </tr>\n",
              "  </tbody>\n",
              "</table>\n",
              "<p>346748 rows × 2 columns</p>\n",
              "</div>\n",
              "      <button class=\"colab-df-convert\" onclick=\"convertToInteractive('df-07b2898a-b0a6-4a74-9e22-bb252ff6d11e')\"\n",
              "              title=\"Convert this dataframe to an interactive table.\"\n",
              "              style=\"display:none;\">\n",
              "        \n",
              "  <svg xmlns=\"http://www.w3.org/2000/svg\" height=\"24px\"viewBox=\"0 0 24 24\"\n",
              "       width=\"24px\">\n",
              "    <path d=\"M0 0h24v24H0V0z\" fill=\"none\"/>\n",
              "    <path d=\"M18.56 5.44l.94 2.06.94-2.06 2.06-.94-2.06-.94-.94-2.06-.94 2.06-2.06.94zm-11 1L8.5 8.5l.94-2.06 2.06-.94-2.06-.94L8.5 2.5l-.94 2.06-2.06.94zm10 10l.94 2.06.94-2.06 2.06-.94-2.06-.94-.94-2.06-.94 2.06-2.06.94z\"/><path d=\"M17.41 7.96l-1.37-1.37c-.4-.4-.92-.59-1.43-.59-.52 0-1.04.2-1.43.59L10.3 9.45l-7.72 7.72c-.78.78-.78 2.05 0 2.83L4 21.41c.39.39.9.59 1.41.59.51 0 1.02-.2 1.41-.59l7.78-7.78 2.81-2.81c.8-.78.8-2.07 0-2.86zM5.41 20L4 18.59l7.72-7.72 1.47 1.35L5.41 20z\"/>\n",
              "  </svg>\n",
              "      </button>\n",
              "      \n",
              "  <style>\n",
              "    .colab-df-container {\n",
              "      display:flex;\n",
              "      flex-wrap:wrap;\n",
              "      gap: 12px;\n",
              "    }\n",
              "\n",
              "    .colab-df-convert {\n",
              "      background-color: #E8F0FE;\n",
              "      border: none;\n",
              "      border-radius: 50%;\n",
              "      cursor: pointer;\n",
              "      display: none;\n",
              "      fill: #1967D2;\n",
              "      height: 32px;\n",
              "      padding: 0 0 0 0;\n",
              "      width: 32px;\n",
              "    }\n",
              "\n",
              "    .colab-df-convert:hover {\n",
              "      background-color: #E2EBFA;\n",
              "      box-shadow: 0px 1px 2px rgba(60, 64, 67, 0.3), 0px 1px 3px 1px rgba(60, 64, 67, 0.15);\n",
              "      fill: #174EA6;\n",
              "    }\n",
              "\n",
              "    [theme=dark] .colab-df-convert {\n",
              "      background-color: #3B4455;\n",
              "      fill: #D2E3FC;\n",
              "    }\n",
              "\n",
              "    [theme=dark] .colab-df-convert:hover {\n",
              "      background-color: #434B5C;\n",
              "      box-shadow: 0px 1px 3px 1px rgba(0, 0, 0, 0.15);\n",
              "      filter: drop-shadow(0px 1px 2px rgba(0, 0, 0, 0.3));\n",
              "      fill: #FFFFFF;\n",
              "    }\n",
              "  </style>\n",
              "\n",
              "      <script>\n",
              "        const buttonEl =\n",
              "          document.querySelector('#df-07b2898a-b0a6-4a74-9e22-bb252ff6d11e button.colab-df-convert');\n",
              "        buttonEl.style.display =\n",
              "          google.colab.kernel.accessAllowed ? 'block' : 'none';\n",
              "\n",
              "        async function convertToInteractive(key) {\n",
              "          const element = document.querySelector('#df-07b2898a-b0a6-4a74-9e22-bb252ff6d11e');\n",
              "          const dataTable =\n",
              "            await google.colab.kernel.invokeFunction('convertToInteractive',\n",
              "                                                     [key], {});\n",
              "          if (!dataTable) return;\n",
              "\n",
              "          const docLinkHtml = 'Like what you see? Visit the ' +\n",
              "            '<a target=\"_blank\" href=https://colab.research.google.com/notebooks/data_table.ipynb>data table notebook</a>'\n",
              "            + ' to learn more about interactive tables.';\n",
              "          element.innerHTML = '';\n",
              "          dataTable['output_type'] = 'display_data';\n",
              "          await google.colab.output.renderOutput(dataTable, element);\n",
              "          const docLink = document.createElement('div');\n",
              "          docLink.innerHTML = docLinkHtml;\n",
              "          element.appendChild(docLink);\n",
              "        }\n",
              "      </script>\n",
              "    </div>\n",
              "  </div>\n",
              "  "
            ]
          },
          "metadata": {},
          "execution_count": 15
        }
      ],
      "source": [
        "df_train"
      ]
    },
    {
      "cell_type": "code",
      "source": [
        "df_train.isna().sum()"
      ],
      "metadata": {
        "colab": {
          "base_uri": "https://localhost:8080/"
        },
        "id": "Y7NKzHpQUJHR",
        "outputId": "41a8a8c8-05a4-48f0-a506-16af545f17aa"
      },
      "execution_count": null,
      "outputs": [
        {
          "output_type": "execute_result",
          "data": {
            "text/plain": [
              "Tweet    3\n",
              "Label    0\n",
              "dtype: int64"
            ]
          },
          "metadata": {},
          "execution_count": 16
        }
      ]
    },
    {
      "cell_type": "code",
      "source": [
        "df_train.dropna(inplace=True)"
      ],
      "metadata": {
        "id": "TGz0VDKIUcM8"
      },
      "execution_count": null,
      "outputs": []
    },
    {
      "cell_type": "code",
      "source": [
        "df_train.isna().sum()"
      ],
      "metadata": {
        "colab": {
          "base_uri": "https://localhost:8080/"
        },
        "id": "87sVX7p4UuM8",
        "outputId": "4de8601a-6a1c-4ce5-9b0a-14e4b9806b9f"
      },
      "execution_count": null,
      "outputs": [
        {
          "output_type": "execute_result",
          "data": {
            "text/plain": [
              "Tweet    0\n",
              "Label    0\n",
              "dtype: int64"
            ]
          },
          "metadata": {},
          "execution_count": 18
        }
      ]
    },
    {
      "cell_type": "code",
      "execution_count": null,
      "metadata": {
        "id": "dPkya5gTd8lJ"
      },
      "outputs": [],
      "source": [
        "X = df_train[\"Tweet\"]\n",
        "y = df_train[\"Label\"]"
      ]
    },
    {
      "cell_type": "code",
      "source": [
        "def read_glove_vector(glove_vec):\n",
        "  with open(glove_vec, 'r', encoding='UTF-8') as f:\n",
        "    words = set()\n",
        "    word_to_vec_map = {}\n",
        "    for line in f:\n",
        "      w_line = line.split()\n",
        "      curr_word = w_line[0]\n",
        "      word_to_vec_map[curr_word] = np.array(w_line[1:], dtype=np.float64)\n",
        "\n",
        "\n",
        "\n",
        "  return word_to_vec_map"
      ],
      "metadata": {
        "id": "R939bs7xlONJ"
      },
      "execution_count": null,
      "outputs": []
    },
    {
      "cell_type": "code",
      "source": [
        "from google.colab import drive\n",
        "drive.mount('/content/drive')"
      ],
      "metadata": {
        "colab": {
          "base_uri": "https://localhost:8080/"
        },
        "id": "bc5NGnailXtW",
        "outputId": "929da008-31c2-4ac8-fdcb-299a1563f3d6"
      },
      "execution_count": null,
      "outputs": [
        {
          "output_type": "stream",
          "name": "stdout",
          "text": [
            "Mounted at /content/drive\n"
          ]
        }
      ]
    },
    {
      "cell_type": "code",
      "source": [
        "word_to_vec_map = read_glove_vector('/content/drive/MyDrive/Adsız klasör/glove.twitter.27B.200d.txt')"
      ],
      "metadata": {
        "id": "IGn9wKCVlSen"
      },
      "execution_count": null,
      "outputs": []
    },
    {
      "cell_type": "code",
      "source": [
        "from keras.preprocessing.text import Tokenizer\n",
        "tok = Tokenizer()\n",
        "\n",
        "# x_train'i metinlere dönüştür\n",
        "X_texts = [str(num) for num in X]\n",
        "tok.fit_on_texts(X_texts)\n",
        "X_tokens = tok.texts_to_sequences(X_texts)\n",
        "word_index = tok.word_index"
      ],
      "metadata": {
        "id": "jJD260HZlVZx"
      },
      "execution_count": null,
      "outputs": []
    },
    {
      "cell_type": "code",
      "source": [
        "len(word_index)   # 234376 token elde edildi."
      ],
      "metadata": {
        "colab": {
          "base_uri": "https://localhost:8080/"
        },
        "id": "LM4YQOGLlVdS",
        "outputId": "32fda67e-0a5c-42d3-ca69-f656c48eaaed"
      },
      "execution_count": null,
      "outputs": [
        {
          "output_type": "execute_result",
          "data": {
            "text/plain": [
              "234375"
            ]
          },
          "metadata": {},
          "execution_count": 27
        }
      ]
    },
    {
      "cell_type": "code",
      "source": [
        "print(\"unique tokens -\", len(word_index))\n",
        "vocab_size = len(tok.word_index) + 1 #+1 for unknown word\n",
        "print('vocab_size -', vocab_size)"
      ],
      "metadata": {
        "colab": {
          "base_uri": "https://localhost:8080/"
        },
        "id": "nLZW4xJNlVgA",
        "outputId": "555c1386-a69d-4e5d-9e5d-2d5ab62f96de"
      },
      "execution_count": null,
      "outputs": [
        {
          "output_type": "stream",
          "name": "stdout",
          "text": [
            "unique tokens - 234375\n",
            "vocab_size - 234376\n"
          ]
        }
      ]
    },
    {
      "cell_type": "code",
      "source": [
        "def get_maxlen(data):\n",
        "    maxlen = 0\n",
        "    for sent in data:\n",
        "        maxlen = max(maxlen, len(sent))\n",
        "    return maxlen"
      ],
      "metadata": {
        "id": "HXBQTpFRlVic"
      },
      "execution_count": null,
      "outputs": []
    },
    {
      "cell_type": "code",
      "source": [
        "get_maxlen(X_tokens)"
      ],
      "metadata": {
        "colab": {
          "base_uri": "https://localhost:8080/"
        },
        "id": "rZIE3q0dlVkv",
        "outputId": "c00de921-adc8-4abc-ee39-63faedd0c5bc"
      },
      "execution_count": null,
      "outputs": [
        {
          "output_type": "execute_result",
          "data": {
            "text/plain": [
              "34"
            ]
          },
          "metadata": {},
          "execution_count": 30
        }
      ]
    },
    {
      "cell_type": "code",
      "source": [
        "maxLen = 34"
      ],
      "metadata": {
        "id": "OjBSJrvdlVm-"
      },
      "execution_count": null,
      "outputs": []
    },
    {
      "cell_type": "code",
      "source": [
        "from keras.utils import pad_sequences"
      ],
      "metadata": {
        "id": "DgXv9Y4rmRNc"
      },
      "execution_count": null,
      "outputs": []
    },
    {
      "cell_type": "code",
      "source": [
        "X_pad = pad_sequences(X_tokens, maxlen=maxLen, padding='post')\n"
      ],
      "metadata": {
        "id": "nziAaZT4lVpI"
      },
      "execution_count": null,
      "outputs": []
    },
    {
      "cell_type": "code",
      "source": [
        "from keras.layers import Embedding\n",
        "from keras.utils.np_utils import to_categorical"
      ],
      "metadata": {
        "id": "Zlqb3PioltJ_"
      },
      "execution_count": null,
      "outputs": []
    },
    {
      "cell_type": "code",
      "source": [
        "embedding_dim = 200\n",
        "embedded_index = dict()"
      ],
      "metadata": {
        "id": "d2LuJQjYltMa"
      },
      "execution_count": null,
      "outputs": []
    },
    {
      "cell_type": "code",
      "source": [
        "emb_matrix = np.zeros((vocab_size, embedding_dim))\n",
        "null_vector = np.zeros(embedding_dim)  # Null vektörü oluşturuluyor\n",
        "a=0\n",
        "c=0\n",
        "for word, index in word_index.items():\n",
        "  try:\n",
        "    embedding_vector = word_to_vec_map.get(word)\n",
        "  except:\n",
        "    a = a+1\n",
        "    embedding_vector = null_vector  # Null vektör atanıyor\n",
        "  if embedding_vector is not None:\n",
        "    c=c+1\n",
        "    emb_matrix[index] = embedding_vector"
      ],
      "metadata": {
        "id": "62FxIq_OltO3"
      },
      "execution_count": null,
      "outputs": []
    },
    {
      "cell_type": "code",
      "source": [
        "embedding_layer = Embedding(input_dim=vocab_size, output_dim=embedding_dim, input_length=maxLen, weights = [emb_matrix], trainable=False)"
      ],
      "metadata": {
        "id": "w0M2Yb6glxs7"
      },
      "execution_count": null,
      "outputs": []
    },
    {
      "cell_type": "code",
      "source": [
        "emb_matrix"
      ],
      "metadata": {
        "colab": {
          "base_uri": "https://localhost:8080/"
        },
        "id": "IJrswLBKmVF1",
        "outputId": "baf0896e-f3c0-40c2-a9a5-f2ee4b954243"
      },
      "execution_count": null,
      "outputs": [
        {
          "output_type": "execute_result",
          "data": {
            "text/plain": [
              "array([[ 0.      ,  0.      ,  0.      , ...,  0.      ,  0.      ,\n",
              "         0.      ],\n",
              "       [ 0.4935  ,  0.35698 ,  0.66068 , ...,  0.17706 , -0.53695 ,\n",
              "        -0.29699 ],\n",
              "       [ 0.047356, -0.10216 , -0.15738 , ...,  0.048306, -0.16832 ,\n",
              "         0.081735],\n",
              "       ...,\n",
              "       [ 0.      ,  0.      ,  0.      , ...,  0.      ,  0.      ,\n",
              "         0.      ],\n",
              "       [-0.26726 , -0.13577 ,  0.20449 , ...,  0.52657 , -0.23508 ,\n",
              "        -0.34164 ],\n",
              "       [ 0.      ,  0.      ,  0.      , ...,  0.      ,  0.      ,\n",
              "         0.      ]])"
            ]
          },
          "metadata": {},
          "execution_count": 39
        }
      ]
    },
    {
      "cell_type": "code",
      "source": [
        "labels = to_categorical(np.asarray(y))"
      ],
      "metadata": {
        "id": "nvX_241blxvj"
      },
      "execution_count": null,
      "outputs": []
    },
    {
      "cell_type": "markdown",
      "metadata": {
        "id": "_Wee4SbVgdrW"
      },
      "source": [
        "## Train Test Split"
      ]
    },
    {
      "cell_type": "code",
      "execution_count": null,
      "metadata": {
        "id": "emKY6B-4k5SI"
      },
      "outputs": [],
      "source": [
        "from sklearn.model_selection import train_test_split\n",
        "\n",
        "x_train, x_test ,y_train, y_test = train_test_split(X_pad, labels, test_size=0.1, random_state=105)"
      ]
    },
    {
      "cell_type": "code",
      "execution_count": null,
      "metadata": {
        "id": "vkIyKLFfOH3C"
      },
      "outputs": [],
      "source": [
        "X_train, X_val ,Y_train, Y_val = train_test_split(x_train, y_train, test_size=0.2, random_state=105)"
      ]
    },
    {
      "cell_type": "markdown",
      "metadata": {
        "id": "QLEgTQj_ehx6"
      },
      "source": [
        "## Tokenization"
      ]
    },
    {
      "cell_type": "markdown",
      "metadata": {
        "id": "K9m5-JEgJCa_"
      },
      "source": [
        "## Deep Learning Model using Bidirectional-LSTMs"
      ]
    },
    {
      "cell_type": "code",
      "execution_count": null,
      "metadata": {
        "colab": {
          "base_uri": "https://localhost:8080/"
        },
        "id": "rBvbladMJEda",
        "outputId": "9ee78c1c-f018-4d5e-eb08-63988037676c"
      },
      "outputs": [
        {
          "output_type": "stream",
          "name": "stdout",
          "text": [
            "Model: \"sequential\"\n",
            "_________________________________________________________________\n",
            " Layer (type)                Output Shape              Param #   \n",
            "=================================================================\n",
            " embedding (Embedding)       (None, 34, 200)           46875200  \n",
            "                                                                 \n",
            " input_1 (InputLayer)        multiple                  0         \n",
            "                                                                 \n",
            " bidirectional (Bidirectiona  (None, 34, 128)          135680    \n",
            " l)                                                              \n",
            "                                                                 \n",
            " dropout (Dropout)           (None, 34, 128)           0         \n",
            "                                                                 \n",
            " bidirectional_1 (Bidirectio  (None, 34, 128)          98816     \n",
            " nal)                                                            \n",
            "                                                                 \n",
            " dropout_1 (Dropout)         (None, 34, 128)           0         \n",
            "                                                                 \n",
            " bidirectional_2 (Bidirectio  (None, 34, 128)          98816     \n",
            " nal)                                                            \n",
            "                                                                 \n",
            " dropout_2 (Dropout)         (None, 34, 128)           0         \n",
            "                                                                 \n",
            " flatten (Flatten)           (None, 4352)              0         \n",
            "                                                                 \n",
            " dense (Dense)               (None, 20)                87060     \n",
            "                                                                 \n",
            "=================================================================\n",
            "Total params: 47,295,572\n",
            "Trainable params: 420,372\n",
            "Non-trainable params: 46,875,200\n",
            "_________________________________________________________________\n"
          ]
        }
      ],
      "source": [
        "from keras.models import Sequential\n",
        "from keras.layers import Dropout, Dense, LSTM, Bidirectional,Embedding, GlobalMaxPool1D\n",
        "from tensorflow.keras import layers\n",
        "\n",
        "model = Sequential()\n",
        "model.add(embedding_layer)\n",
        "model.add(layers.Input(shape=(34, 1)))\n",
        "model.add(Bidirectional(LSTM(64,return_sequences=True)))\n",
        "model.add(layers.Dropout(0.2))\n",
        "model.add(Bidirectional(LSTM(64,return_sequences=True)))\n",
        "model.add(layers.Dropout(0.2))\n",
        "model.add(Bidirectional(LSTM(64,return_sequences=True)))\n",
        "model.add(layers.Dropout(0.2))\n",
        "model.add(layers.Flatten())\n",
        "model.add(layers.Dense(20, activation='sigmoid'))\n",
        "\n",
        "model.summary()"
      ]
    },
    {
      "cell_type": "code",
      "execution_count": null,
      "metadata": {
        "id": "HgUBXqJXJJxB"
      },
      "outputs": [],
      "source": [
        "from tensorflow.keras.callbacks import EarlyStopping\n",
        "\n",
        "early_stop = EarlyStopping(monitor=\"val_loss\", mode=\"min\", patience=0,verbose=1)\n",
        "\n",
        "model.compile(loss = 'categorical_crossentropy',\n",
        "             optimizer = \"adam\",\n",
        "             metrics=[\"accuracy\"])"
      ]
    },
    {
      "cell_type": "code",
      "source": [
        "X_train= np.reshape(X_train, (X_train.shape[0], X_train.shape[1], 1))\n",
        "X_val = np.reshape(X_val, (X_val.shape[0], X_val.shape[1], 1))"
      ],
      "metadata": {
        "id": "nyvIPeUqm6RG"
      },
      "execution_count": null,
      "outputs": []
    },
    {
      "cell_type": "code",
      "execution_count": null,
      "metadata": {
        "colab": {
          "base_uri": "https://localhost:8080/"
        },
        "id": "uKB5Wbg2JKxR",
        "outputId": "0a7ed108-41c8-4db9-8324-c055a33fceb0"
      },
      "outputs": [
        {
          "output_type": "stream",
          "name": "stdout",
          "text": [
            "Epoch 1/10\n",
            "3901/3901 [==============================] - 1408s 357ms/step - loss: 2.3327 - accuracy: 0.3149 - val_loss: 2.2728 - val_accuracy: 0.3257\n",
            "Epoch 2/10\n",
            "3901/3901 [==============================] - 1360s 349ms/step - loss: 2.2266 - accuracy: 0.3411 - val_loss: 2.2387 - val_accuracy: 0.3389\n",
            "Epoch 3/10\n",
            "3901/3901 [==============================] - 1383s 354ms/step - loss: 2.1742 - accuracy: 0.3541 - val_loss: 2.2149 - val_accuracy: 0.3432\n",
            "Epoch 4/10\n",
            "3901/3901 [==============================] - 1351s 346ms/step - loss: 2.1338 - accuracy: 0.3627 - val_loss: 2.2048 - val_accuracy: 0.3475\n",
            "Epoch 5/10\n",
            "3901/3901 [==============================] - 1359s 349ms/step - loss: 2.0984 - accuracy: 0.3713 - val_loss: 2.2100 - val_accuracy: 0.3483\n",
            "Epoch 5: early stopping\n"
          ]
        },
        {
          "output_type": "execute_result",
          "data": {
            "text/plain": [
              "<keras.callbacks.History at 0x7f19687768c0>"
            ]
          },
          "metadata": {},
          "execution_count": 50
        }
      ],
      "source": [
        "model.fit(X_train, Y_train, validation_data=(X_val, Y_val), epochs=10, batch_size=64 , callbacks=[early_stop])"
      ]
    },
    {
      "cell_type": "code",
      "execution_count": null,
      "metadata": {
        "id": "qBsaFCe8JJ5B"
      },
      "outputs": [],
      "source": [
        "model.save(\"bi-lstmWithoutOSGloVe.h5\")"
      ]
    },
    {
      "cell_type": "code",
      "execution_count": null,
      "metadata": {
        "colab": {
          "base_uri": "https://localhost:8080/"
        },
        "id": "vraBLMQiC5vY",
        "outputId": "f139c748-f58f-4175-b636-9b3f83b1470b"
      },
      "outputs": [
        {
          "output_type": "stream",
          "name": "stdout",
          "text": [
            "1084/1084 [==============================] - 81s 70ms/step\n"
          ]
        }
      ],
      "source": [
        "predict_x=model.predict(x_test)\n",
        "classes_x=np.argmax(predict_x,axis=1)"
      ]
    },
    {
      "cell_type": "code",
      "source": [
        "from tensorflow import keras"
      ],
      "metadata": {
        "id": "k5grni0zB4PG"
      },
      "execution_count": null,
      "outputs": []
    },
    {
      "cell_type": "code",
      "source": [
        "classes_x = keras.utils.to_categorical(classes_x)"
      ],
      "metadata": {
        "id": "rSAZ96mhB4SG"
      },
      "execution_count": null,
      "outputs": []
    },
    {
      "cell_type": "code",
      "source": [
        "from sklearn.metrics import classification_report, confusion_matrix\n",
        "\n",
        "print(classification_report(y_test, classes_x))"
      ],
      "metadata": {
        "colab": {
          "base_uri": "https://localhost:8080/"
        },
        "id": "28XPtRe8B4Ul",
        "outputId": "3ae6d72e-162b-456b-f64d-a32060c5030f"
      },
      "execution_count": null,
      "outputs": [
        {
          "output_type": "stream",
          "name": "stdout",
          "text": [
            "              precision    recall  f1-score   support\n",
            "\n",
            "           0       0.35      0.72      0.47      7477\n",
            "           1       0.29      0.29      0.29      3634\n",
            "           2       0.39      0.56      0.46      3600\n",
            "           3       0.25      0.02      0.03      1725\n",
            "           4       0.46      0.50      0.48      1882\n",
            "           5       0.20      0.06      0.09      1748\n",
            "           6       0.20      0.08      0.11      1564\n",
            "           7       0.32      0.19      0.24      1285\n",
            "           8       0.30      0.04      0.07      1105\n",
            "           9       0.19      0.03      0.05      1136\n",
            "          10       0.24      0.19      0.21      1195\n",
            "          11       0.52      0.53      0.52      1073\n",
            "          12       0.30      0.52      0.38       889\n",
            "          13       0.64      0.03      0.06       838\n",
            "          14       0.12      0.03      0.05       927\n",
            "          15       0.31      0.17      0.22       973\n",
            "          16       0.15      0.02      0.03       941\n",
            "          17       0.56      0.75      0.64       853\n",
            "          18       0.28      0.09      0.14       981\n",
            "          19       0.23      0.01      0.02       849\n",
            "\n",
            "   micro avg       0.35      0.35      0.35     34675\n",
            "   macro avg       0.31      0.24      0.23     34675\n",
            "weighted avg       0.32      0.35      0.29     34675\n",
            " samples avg       0.35      0.35      0.35     34675\n",
            "\n"
          ]
        }
      ]
    },
    {
      "cell_type": "code",
      "execution_count": null,
      "metadata": {
        "id": "kshxA6vyDZ9M"
      },
      "outputs": [],
      "source": [
        "from sklearn.metrics import accuracy_score"
      ]
    },
    {
      "cell_type": "code",
      "execution_count": null,
      "metadata": {
        "colab": {
          "base_uri": "https://localhost:8080/"
        },
        "id": "uiQWLZ0mDk83",
        "outputId": "24c4094a-3ebc-45e4-f7b6-c4162823ba35"
      },
      "outputs": [
        {
          "output_type": "execute_result",
          "data": {
            "text/plain": [
              "0.3528190338860851"
            ]
          },
          "metadata": {},
          "execution_count": 57
        }
      ],
      "source": [
        "score = accuracy_score(y_test, classes_x)\n",
        "score"
      ]
    },
    {
      "cell_type": "code",
      "source": [
        "from sklearn.metrics import confusion_matrix\n",
        "import seaborn as sns\n",
        "import matplotlib.pyplot as plt\n",
        "\n",
        "\n",
        "cm = confusion_matrix(np.asarray(y_test).argmax(axis=1), np.asarray(classes_x).argmax(axis=1))\n",
        "# Büyük boyutlu bir figür oluşturun\n",
        "plt.figure(figsize=(12, 12))\n",
        "\n",
        "# Isı haritasını çizin\n",
        "ax = plt.subplot()\n",
        "\n",
        "sns.heatmap(cm, annot=True, fmt='g', ax=ax);  #annot=True to annotate cells, ftm='g' to disable scientific notation\n",
        "\n",
        "# labels, title and ticks\n",
        "ax.set_xlabel('Predicted labels');ax.set_ylabel('True labels');\n",
        "ax.set_title('Confusion Matrix');"
      ],
      "metadata": {
        "colab": {
          "base_uri": "https://localhost:8080/",
          "height": 1000
        },
        "id": "Q_qt7IVoB-qH",
        "outputId": "92606e6f-51a5-4643-b36f-1fbbea158b6a"
      },
      "execution_count": null,
      "outputs": [
        {
          "output_type": "display_data",
          "data": {
            "text/plain": [
              "<Figure size 1200x1200 with 2 Axes>"
            ],
            "image/png": "[encoded data removed]"
          },
          "metadata": {}
        }
      ]
    }
  ],
  "metadata": {
    "colab": {
      "provenance": []
    },
    "kernelspec": {
      "display_name": "Python 3",
      "name": "python3"
    },
    "language_info": {
      "name": "python"
    }
  },
  "nbformat": 4,
  "nbformat_minor": 0
}